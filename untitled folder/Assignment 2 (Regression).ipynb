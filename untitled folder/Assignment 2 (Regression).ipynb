{
 "cells": [
  {
   "cell_type": "code",
   "execution_count": 1,
   "metadata": {},
   "outputs": [],
   "source": [
    "import pandas as pd\n",
    "import numpy as np\n",
    "from sklearn.model_selection import train_test_split\n",
    "from sklearn.metrics import classification_report, accuracy_score\n",
    "from sklearn.model_selection import GridSearchCV\n",
    "\n",
    "df = pd.read_csv('D3 (Assessment 2).csv')"
   ]
  },
  {
   "cell_type": "code",
   "execution_count": 2,
   "metadata": {},
   "outputs": [
    {
     "name": "stdout",
     "output_type": "stream",
     "text": [
      "<class 'pandas.core.frame.DataFrame'>\n",
      "RangeIndex: 51766 entries, 0 to 51765\n",
      "Data columns (total 30 columns):\n",
      "race                        50750 non-null object\n",
      "gender                      51766 non-null object\n",
      "age                         51756 non-null object\n",
      "admission_type_id           51766 non-null int64\n",
      "discharge_disposition_id    51766 non-null int64\n",
      "admission_source_id         51766 non-null int64\n",
      "time_in_hospital            51766 non-null int64\n",
      "medical_specialty           51766 non-null object\n",
      "num_lab_procedures          51766 non-null int64\n",
      "num_procedures              51766 non-null int64\n",
      "num_medications             51766 non-null int64\n",
      "number_outpatient           51766 non-null int64\n",
      "number_emergency            51766 non-null int64\n",
      "number_inpatient            51766 non-null int64\n",
      "number_diagnoses            51766 non-null int64\n",
      "max_glu_serum               51766 non-null object\n",
      "A1Cresult                   51766 non-null object\n",
      "metformin                   51766 non-null object\n",
      "repaglinide                 51766 non-null object\n",
      "nateglinide                 51766 non-null object\n",
      "chlorpropamide              51757 non-null object\n",
      "glimepiride                 51766 non-null object\n",
      "acetohexamide               51766 non-null object\n",
      "glipizide                   51766 non-null object\n",
      "glyburide                   51766 non-null object\n",
      "tolbutamide                 51766 non-null object\n",
      "insulin                     51766 non-null object\n",
      "change                      51766 non-null bool\n",
      "diabetesMed                 51766 non-null bool\n",
      "readmitted                  51766 non-null int64\n",
      "dtypes: bool(2), int64(12), object(16)\n",
      "memory usage: 11.2+ MB\n",
      "None\n"
     ]
    }
   ],
   "source": [
    "print(df.info())"
   ]
  },
  {
   "cell_type": "code",
   "execution_count": 3,
   "metadata": {},
   "outputs": [],
   "source": [
    "from sklearn.model_selection import train_test_split\n",
    "\n",
    "rs = 42\n",
    "\n",
    "# Replace 'Unknown/Invalid' values in 'gender' with NaN\n",
    "mask = df['gender'] == 'Unknown/Invalid'\n",
    "df.loc[mask, 'gender'] = np.nan\n",
    "df['gender'].fillna(df['gender'].mode()[0], inplace=True)\n",
    "\n",
    "# Impute missing values with the mode\n",
    "df['race'].fillna(df['race'].mode()[0], inplace=True)\n",
    "df['age'].fillna(df['age'].mode()[0], inplace=True)\n",
    "\n",
    "# Drop unused columns\n",
    "df.drop(['admission_type_id', 'discharge_disposition_id', 'admission_source_id', 'medical_specialty', \n",
    "         'repaglinide', 'nateglinide', 'chlorpropamide', 'glimepiride', 'acetohexamide', 'glyburide', \n",
    "         'tolbutamide'], axis=1, inplace=True)\n",
    "\n",
    "# One-hot encoding for categorical variables\n",
    "df = pd.get_dummies(df)\n",
    "\n",
    "# Target/input split\n",
    "y = df['readmitted']  \n",
    "X = df.drop(['readmitted'], axis=1)\n",
    "\n",
    "# Convert X into a numpy matrix \n",
    "X_mat = X.to_numpy()\n",
    "\n",
    "# Split the data into train and test sets\n",
    "X_train, X_test, y_train, y_test = train_test_split(X_mat, y, test_size=0.3, stratify=y, random_state=rs)"
   ]
  },
  {
   "cell_type": "markdown",
   "metadata": {},
   "source": [
    "## Standardisation"
   ]
  },
  {
   "cell_type": "code",
   "execution_count": 4,
   "metadata": {},
   "outputs": [
    {
     "name": "stdout",
     "output_type": "stream",
     "text": [
      "Before scaling\n",
      "-------------\n",
      "Variable #0: min 1, max 14, mean 4.24 and std dev 2.87\n",
      "Variable #1: min 1, max 126, mean 43.84 and std dev 19.92\n",
      "Variable #2: min 0, max 6, mean 1.31 and std dev 1.72\n",
      "Variable #3: min 1, max 75, mean 16.76 and std dev 8.08\n",
      "Variable #4: min 0, max 42, mean 0.51 and std dev 1.54\n",
      "After scaling\n",
      "-------------\n",
      "Variable #0: min -1.1296735423715736, max 3.397246708561133, mean 0.00 and std dev 1.00\n",
      "Variable #1: min -2.1504273322648535, max 4.1237873097501225, mean 0.00 and std dev 1.00\n",
      "Variable #2: min -0.7604951629484381, max 2.719181928357781, mean 0.00 and std dev 1.00\n",
      "Variable #3: min -1.9505917346588757, max 7.2099841860682465, mean 0.00 and std dev 1.00\n",
      "Variable #4: min -0.33133491512783647, max 26.906961598243083, mean -0.00 and std dev 1.00\n"
     ]
    }
   ],
   "source": [
    "from sklearn.preprocessing import StandardScaler\n",
    "\n",
    "# initialise a standard scaler object\n",
    "scaler = StandardScaler()\n",
    "\n",
    "# visualise min, max, mean and standard dev of data before scaling\n",
    "print(\"Before scaling\\n-------------\")\n",
    "for i in range(5):\n",
    "    col = X_train[:,i]\n",
    "    print(\"Variable #{}: min {}, max {}, mean {:.2f} and std dev {:.2f}\".\n",
    "          format(i, min(col), max(col), np.mean(col), np.std(col)))\n",
    "\n",
    "# learn the mean and std.dev of variables from training data\n",
    "# then use the learned values to transform training data\n",
    "X_train = scaler.fit_transform(X_train, y_train)\n",
    "\n",
    "print(\"After scaling\\n-------------\")\n",
    "for i in range(5):\n",
    "    col = X_train[:,i]\n",
    "    print(\"Variable #{}: min {}, max {}, mean {:.2f} and std dev {:.2f}\".\n",
    "          format(i, min(col), max(col), np.mean(col), np.std(col)))\n",
    "\n",
    "# use the statistic that you learned from training to transform test data\n",
    "# NEVER learn from test data, this is supposed to be a set of dataset\n",
    "# that the model has never seen before\n",
    "X_test = scaler.transform(X_test)"
   ]
  },
  {
   "cell_type": "markdown",
   "metadata": {},
   "source": [
    "## Training default logistic regression"
   ]
  },
  {
   "cell_type": "code",
   "execution_count": 5,
   "metadata": {},
   "outputs": [],
   "source": [
    "from sklearn.linear_model import LogisticRegression"
   ]
  },
  {
   "cell_type": "code",
   "execution_count": 6,
   "metadata": {},
   "outputs": [
    {
     "data": {
      "text/plain": [
       "LogisticRegression(random_state=42)"
      ]
     },
     "execution_count": 6,
     "metadata": {},
     "output_type": "execute_result"
    }
   ],
   "source": [
    "model = LogisticRegression(random_state=rs)\n",
    "\n",
    "# fit it to training data\n",
    "model.fit(X_train, y_train)"
   ]
  },
  {
   "cell_type": "code",
   "execution_count": 7,
   "metadata": {},
   "outputs": [
    {
     "name": "stdout",
     "output_type": "stream",
     "text": [
      "Train accuracy: 0.6301744121867756\n",
      "Test accuracy: 0.628718609143593\n",
      "              precision    recall  f1-score   support\n",
      "\n",
      "           0       0.62      0.81      0.70      8382\n",
      "           1       0.65      0.42      0.51      7148\n",
      "\n",
      "    accuracy                           0.63     15530\n",
      "   macro avg       0.64      0.61      0.61     15530\n",
      "weighted avg       0.63      0.63      0.61     15530\n",
      "\n"
     ]
    }
   ],
   "source": [
    "# training and test accuracy\n",
    "print(\"Train accuracy:\", model.score(X_train, y_train))\n",
    "print(\"Test accuracy:\", model.score(X_test, y_test))\n",
    "\n",
    "# classification report on test data\n",
    "y_pred = model.predict(X_test)\n",
    "print(classification_report(y_test, y_pred))"
   ]
  },
  {
   "cell_type": "markdown",
   "metadata": {},
   "source": [
    "The training accuracy is slightly higher than the test accuracy which may indicate slight overfitting"
   ]
  },
  {
   "cell_type": "markdown",
   "metadata": {},
   "source": [
    "## Understanding the default logistic regression model "
   ]
  },
  {
   "cell_type": "code",
   "execution_count": 8,
   "metadata": {},
   "outputs": [
    {
     "name": "stdout",
     "output_type": "stream",
     "text": [
      "[[-2.80171078e-03  3.77317626e-02 -6.66314845e-02  2.12237046e-02\n",
      "   1.29290784e-01  2.83166952e-01  4.87744661e-01  1.10179477e-01\n",
      "   4.25769922e-02  1.57412933e-01 -5.08295536e-03 -4.14676120e-02\n",
      "   4.08286211e-02 -5.65613834e-02 -2.36819726e-02  1.55989763e-02\n",
      "  -1.55989763e-02 -1.01848164e-02 -5.66866994e-03 -4.84287038e-02\n",
      "  -3.21594516e-02 -3.12812545e-02 -1.62133021e-02  1.65850209e-02\n",
      "   3.40179819e-02  3.03221002e-02 -3.52663204e-02 -4.27202366e-03\n",
      "   5.04895049e-02 -3.38252757e-02  3.51085489e-04  9.42516757e-03\n",
      "   7.80322607e-03 -3.80127948e-03 -1.01776054e-02  4.16280042e-03\n",
      "   3.84122933e-02 -3.37826571e-02 -2.63983098e-02  5.15715296e-03\n",
      "  -1.44469210e-02  1.08040260e-02  1.26677975e-02  1.42803009e-02\n",
      "   4.94451381e-02 -5.53543192e-02 -1.24151392e-02]]\n"
     ]
    }
   ],
   "source": [
    "print(model.coef_)"
   ]
  },
  {
   "cell_type": "code",
   "execution_count": 9,
   "metadata": {},
   "outputs": [
    {
     "name": "stdout",
     "output_type": "stream",
     "text": [
      "time_in_hospital : -0.0028017107824819558\n",
      "num_lab_procedures : 0.037731762578632706\n",
      "num_procedures : -0.06663148450628817\n",
      "num_medications : 0.021223704642281464\n",
      "number_outpatient : 0.129290783536585\n",
      "number_emergency : 0.28316695206062853\n",
      "number_inpatient : 0.48774466071240485\n",
      "number_diagnoses : 0.11017947681544739\n",
      "change : 0.04257699217336978\n",
      "diabetesMed : 0.15741293334889148\n",
      "race_AfricanAmerican : -0.005082955359492956\n",
      "race_Asian : -0.04146761197233607\n",
      "race_Caucasian : 0.040828621143613936\n",
      "race_Hispanic : -0.056561383370262536\n",
      "race_Other : -0.023681972553154365\n",
      "gender_Female : 0.015598976348653067\n",
      "gender_Male : -0.015598976348653067\n",
      "age_[0-10) : -0.010184816424470979\n",
      "age_[10-20) : -0.0056686699439668945\n",
      "age_[20-30) : -0.04842870375151485\n"
     ]
    }
   ],
   "source": [
    "feature_names = X.columns\n",
    "coef = model.coef_[0]\n",
    "\n",
    "# limit to 20 features\n",
    "coef = coef[:20]\n",
    "\n",
    "for i in range(len(coef)):\n",
    "    print(feature_names[i], ':', coef[i])"
   ]
  },
  {
   "cell_type": "code",
   "execution_count": 10,
   "metadata": {},
   "outputs": [
    {
     "name": "stdout",
     "output_type": "stream",
     "text": [
      "number_inpatient : 0.48774466071240485\n",
      "number_emergency : 0.28316695206062853\n",
      "diabetesMed : 0.15741293334889148\n",
      "number_outpatient : 0.129290783536585\n",
      "number_diagnoses : 0.11017947681544739\n"
     ]
    }
   ],
   "source": [
    "# grab feature importances from the model and feature name from the original X\n",
    "coef = model.coef_[0]\n",
    "feature_names = X.columns\n",
    "\n",
    "# sort them out in descending order\n",
    "indices = np.argsort(np.absolute(coef))\n",
    "indices = np.flip(indices, axis=0)\n",
    "\n",
    "# limit to 5 features\n",
    "indices = indices[:5]\n",
    "\n",
    "for i in indices:\n",
    "    print(feature_names[i], ':', coef[i])"
   ]
  },
  {
   "cell_type": "code",
   "execution_count": 11,
   "metadata": {},
   "outputs": [
    {
     "name": "stdout",
     "output_type": "stream",
     "text": [
      "[-0.13645179]\n"
     ]
    }
   ],
   "source": [
    "alpha = model.intercept_\n",
    "print(alpha)"
   ]
  },
  {
   "cell_type": "markdown",
   "metadata": {},
   "source": [
    "## Finding optimal hyperparameters with GridSearchCV"
   ]
  },
  {
   "cell_type": "code",
   "execution_count": 12,
   "metadata": {},
   "outputs": [
    {
     "data": {
      "text/plain": [
       "GridSearchCV(cv=10, estimator=LogisticRegression(random_state=42),\n",
       "             param_grid={'C': [1e-06, 1e-05, 0.0001, 0.001, 0.01, 0.1, 1, 10,\n",
       "                               100, 1000]},\n",
       "             return_train_score=True)"
      ]
     },
     "execution_count": 12,
     "metadata": {},
     "output_type": "execute_result"
    }
   ],
   "source": [
    "# grid search CV\n",
    "params = {'C': [pow(10, x) for x in range(-6, 4)]}\n",
    "\n",
    "# use all cores to tune logistic regression with C parameter\n",
    "cv = GridSearchCV(param_grid=params, estimator=LogisticRegression(random_state=rs),return_train_score=True, cv=10)\n",
    "cv.fit(X_train, y_train)"
   ]
  },
  {
   "cell_type": "code",
   "execution_count": 13,
   "metadata": {},
   "outputs": [
    {
     "name": "stdout",
     "output_type": "stream",
     "text": [
      "{'mean_fit_time': array([0.09934514, 0.09884422, 0.05042419, 0.05430789, 0.06225612,\n",
      "       0.06246881, 0.06359181, 0.06313708, 0.06727614, 0.06428456]), 'std_fit_time': array([0.00856229, 0.00818076, 0.01540875, 0.00655165, 0.00430735,\n",
      "       0.0072278 , 0.00662705, 0.00715541, 0.00699725, 0.00788847]), 'mean_score_time': array([0.00090349, 0.00027478, 0.        , 0.        , 0.        ,\n",
      "       0.00156319, 0.        , 0.        , 0.        , 0.        ]), 'std_score_time': array([0.00254201, 0.00082433, 0.        , 0.        , 0.        ,\n",
      "       0.00468957, 0.        , 0.        , 0.        , 0.        ]), 'param_C': masked_array(data=[1e-06, 1e-05, 0.0001, 0.001, 0.01, 0.1, 1, 10, 100,\n",
      "                   1000],\n",
      "             mask=[False, False, False, False, False, False, False, False,\n",
      "                   False, False],\n",
      "       fill_value='?',\n",
      "            dtype=object), 'params': [{'C': 1e-06}, {'C': 1e-05}, {'C': 0.0001}, {'C': 0.001}, {'C': 0.01}, {'C': 0.1}, {'C': 1}, {'C': 10}, {'C': 100}, {'C': 1000}], 'split0_test_score': array([0.5397351 , 0.55270419, 0.61175497, 0.62306843, 0.62444812,\n",
      "       0.62527594, 0.625     , 0.625     , 0.625     , 0.625     ]), 'split1_test_score': array([0.5397351 , 0.55656733, 0.60954746, 0.61754967, 0.61672185,\n",
      "       0.61699779, 0.61672185, 0.61672185, 0.61672185, 0.61672185]), 'split2_test_score': array([0.5397351 , 0.55463576, 0.61782561, 0.63107064, 0.6307947 ,\n",
      "       0.63189845, 0.63189845, 0.63189845, 0.63189845, 0.63189845]), 'split3_test_score': array([0.5397351 , 0.55298013, 0.61616998, 0.62775938, 0.6307947 ,\n",
      "       0.63134658, 0.63134658, 0.63134658, 0.63134658, 0.63134658]), 'split4_test_score': array([0.5397351 , 0.55325607, 0.6156181 , 0.62444812, 0.62417219,\n",
      "       0.62527594, 0.625     , 0.625     , 0.625     , 0.625     ]), 'split5_test_score': array([0.5397351 , 0.55187638, 0.62417219, 0.6437638 , 0.64569536,\n",
      "       0.64486755, 0.64486755, 0.64486755, 0.64486755, 0.64486755]), 'split6_test_score': array([0.53960806, 0.55396081, 0.61192382, 0.62738062, 0.63096881,\n",
      "       0.63096881, 0.63096881, 0.63096881, 0.63096881, 0.63096881]), 'split7_test_score': array([0.53960806, 0.54926856, 0.60667955, 0.61854816, 0.62324041,\n",
      "       0.62296439, 0.62296439, 0.62296439, 0.62296439, 0.62296439]), 'split8_test_score': array([0.53960806, 0.55423682, 0.62075628, 0.6306928 , 0.63096881,\n",
      "       0.63096881, 0.63096881, 0.63096881, 0.63096881, 0.63096881]), 'split9_test_score': array([0.53960806, 0.55423682, 0.61137179, 0.62434447, 0.62268838,\n",
      "       0.62406845, 0.62434447, 0.62434447, 0.62434447, 0.62434447]), 'mean_test_score': array([0.53968428, 0.55337229, 0.61458197, 0.62686261, 0.62804933,\n",
      "       0.62846327, 0.62840809, 0.62840809, 0.62840809, 0.62840809]), 'std_test_score': array([6.22364976e-05, 1.82586386e-03, 5.07314856e-03, 7.08186382e-03,\n",
      "       7.42752682e-03, 7.09293469e-03, 7.14696352e-03, 7.14696352e-03,\n",
      "       7.14696352e-03, 7.14696352e-03]), 'rank_test_score': array([10,  9,  8,  7,  6,  1,  2,  2,  2,  2]), 'split0_train_score': array([0.53967865, 0.55344658, 0.61541764, 0.62838832, 0.63028946,\n",
      "       0.63047345, 0.63041212, 0.63041212, 0.63041212, 0.63041212]), 'split1_train_score': array([0.53967865, 0.55347725, 0.61572427, 0.62912425, 0.63215994,\n",
      "       0.63206795, 0.6321906 , 0.6321906 , 0.6321906 , 0.6321906 ]), 'split2_train_score': array([0.53967865, 0.55317061, 0.61563228, 0.62743775, 0.62967619,\n",
      "       0.62961487, 0.6295842 , 0.6295842 , 0.6295842 , 0.6295842 ]), 'split3_train_score': array([0.53967865, 0.55329327, 0.61492702, 0.62823501, 0.63016681,\n",
      "       0.63016681, 0.63032013, 0.63028946, 0.63028946, 0.63028946]), 'split4_train_score': array([0.53967865, 0.55344658, 0.61483503, 0.6279897 , 0.62979885,\n",
      "       0.63001349, 0.62998283, 0.62998283, 0.62998283, 0.62998283]), 'split5_train_score': array([0.53967865, 0.5532626 , 0.61406844, 0.6266405 , 0.62768306,\n",
      "       0.62789771, 0.6279897 , 0.6279897 , 0.6279897 , 0.6279897 ]), 'split6_train_score': array([0.53969276, 0.55306166, 0.61570539, 0.62747984, 0.62977954,\n",
      "       0.62987152, 0.62993285, 0.62990219, 0.62990219, 0.62990219]), 'split7_train_score': array([0.53969276, 0.55385889, 0.61598136, 0.62922761, 0.63048478,\n",
      "       0.63076074, 0.6307914 , 0.63076074, 0.63076074, 0.63076074]), 'split8_train_score': array([0.53969276, 0.55309233, 0.61539877, 0.62855303, 0.63036213,\n",
      "       0.63063809, 0.63082206, 0.63082206, 0.63082206, 0.6307914 ]), 'split9_train_score': array([0.53969276, 0.55315365, 0.61754515, 0.62766382, 0.63017815,\n",
      "       0.63027014, 0.63042345, 0.63042345, 0.63042345, 0.63042345]), 'mean_train_score': array([0.53968429, 0.55332634, 0.61552354, 0.62807398, 0.63005789,\n",
      "       0.63017748, 0.63024493, 0.63023574, 0.63023574, 0.63023267]), 'std_train_score': array([6.91474219e-06, 2.27891836e-04, 8.57652232e-04, 7.60009525e-04,\n",
      "       1.03457479e-03, 9.92820722e-04, 1.00854210e-03, 1.00769842e-03,\n",
      "       1.00769842e-03, 1.00595480e-03])}\n"
     ]
    }
   ],
   "source": [
    "result_set = cv.cv_results_\n",
    "print(result_set)"
   ]
  },
  {
   "cell_type": "code",
   "execution_count": 14,
   "metadata": {},
   "outputs": [
    {
     "name": "stdout",
     "output_type": "stream",
     "text": [
      "Total number of models:  10\n"
     ]
    },
    {
     "data": {
      "text/plain": [
       "<Figure size 640x480 with 1 Axes>"
      ]
     },
     "metadata": {},
     "output_type": "display_data"
    }
   ],
   "source": [
    "import matplotlib.pyplot as plt\n",
    "train_result = result_set['split0_train_score']\n",
    "test_result = result_set['split0_test_score']\n",
    "print(\"Total number of models: \", len(test_result))\n",
    "# plot Hyperparameter C values vs training and test accuracy score\n",
    "plt.plot(range(0, len(train_result)), train_result, 'b', range(0,len(test_result)), test_result, 'r')\n",
    "plt.xlabel('Hyperparameter C\\nBlue = training acc. Red = test acc.')\n",
    "plt.xticks(range(0, len(train_result)),[pow(10, x) for x in range(-6, 4)])\n",
    "plt.ylabel('score')\n",
    "plt.show()"
   ]
  },
  {
   "cell_type": "code",
   "execution_count": 15,
   "metadata": {},
   "outputs": [
    {
     "name": "stdout",
     "output_type": "stream",
     "text": [
      "Total number of models:  10\n"
     ]
    },
    {
     "data": {
      "image/png": "[encoded data removed]",
      "text/plain": [
       "<Figure size 432x288 with 1 Axes>"
      ]
     },
     "metadata": {
      "needs_background": "light"
     },
     "output_type": "display_data"
    }
   ],
   "source": [
    "import matplotlib.pyplot as plt\n",
    "\n",
    "train_result = result_set['mean_train_score']\n",
    "test_result = result_set['mean_test_score']\n",
    "print(\"Total number of models: \", len(test_result))\n",
    "# plot Hyperparameter C values vs training and test accuracy score\n",
    "plt.plot(range(0, len(train_result)), train_result, 'b', range(0,len(test_result)), test_result, 'r')\n",
    "plt.xlabel('Hyperparameter C\\nBlue = training acc. Red = test acc.')\n",
    "plt.xticks(range(0, len(train_result)),[pow(10, x) for x in range(-6, 4)])\n",
    "plt.ylabel('score')\n",
    "plt.show()"
   ]
  },
  {
   "cell_type": "code",
   "execution_count": 16,
   "metadata": {},
   "outputs": [
    {
     "name": "stdout",
     "output_type": "stream",
     "text": [
      "{'C': 0.1}\n"
     ]
    }
   ],
   "source": [
    "print(cv.best_params_)"
   ]
  },
  {
   "cell_type": "code",
   "execution_count": 17,
   "metadata": {},
   "outputs": [
    {
     "name": "stdout",
     "output_type": "stream",
     "text": [
      "Train accuracy: 0.6302296059167679\n",
      "Test accuracy: 0.6285898261429491\n",
      "              precision    recall  f1-score   support\n",
      "\n",
      "           0       0.62      0.81      0.70      8382\n",
      "           1       0.65      0.42      0.51      7148\n",
      "\n",
      "    accuracy                           0.63     15530\n",
      "   macro avg       0.64      0.61      0.61     15530\n",
      "weighted avg       0.63      0.63      0.61     15530\n",
      "\n"
     ]
    }
   ],
   "source": [
    "cv.fit(X_train, y_train)\n",
    "\n",
    "print(\"Train accuracy:\", cv.score(X_train, y_train))\n",
    "print(\"Test accuracy:\", cv.score(X_test, y_test))\n",
    "\n",
    "# classification report on test data\n",
    "y_pred = model.predict(X_test)\n",
    "print(classification_report(y_test, y_pred))"
   ]
  },
  {
   "cell_type": "markdown",
   "metadata": {},
   "source": [
    "## Feature selection using Recursive Feature Elimination"
   ]
  },
  {
   "cell_type": "code",
   "execution_count": 18,
   "metadata": {},
   "outputs": [
    {
     "name": "stdout",
     "output_type": "stream",
     "text": [
      "Original feature set 47\n",
      "Number of features after elimination 29\n"
     ]
    }
   ],
   "source": [
    "from sklearn.feature_selection import RFECV\n",
    "\n",
    "rfe = RFECV(estimator = LogisticRegression(random_state=rs), cv=10)\n",
    "rfe.fit(X_train, y_train) # run the RFECV\n",
    "\n",
    "# comparing how many variables before and after\n",
    "print(\"Original feature set\", X_train.shape[1])\n",
    "print(\"Number of features after elimination\", rfe.n_features_)"
   ]
  },
  {
   "cell_type": "code",
   "execution_count": 19,
   "metadata": {},
   "outputs": [],
   "source": [
    "X_train_sel = rfe.transform(X_train)\n",
    "X_test_sel = rfe.transform(X_test)"
   ]
  },
  {
   "cell_type": "markdown",
   "metadata": {},
   "source": [
    "### GridSearch after elimination"
   ]
  },
  {
   "cell_type": "code",
   "execution_count": 20,
   "metadata": {},
   "outputs": [
    {
     "name": "stdout",
     "output_type": "stream",
     "text": [
      "Train accuracy: 0.6305331714317254\n",
      "Test accuracy: 0.6285254346426272\n",
      "              precision    recall  f1-score   support\n",
      "\n",
      "           0       0.62      0.81      0.70      8382\n",
      "           1       0.65      0.42      0.51      7148\n",
      "\n",
      "    accuracy                           0.63     15530\n",
      "   macro avg       0.63      0.61      0.60     15530\n",
      "weighted avg       0.63      0.63      0.61     15530\n",
      "\n",
      "{'C': 1}\n"
     ]
    }
   ],
   "source": [
    "# grid search CV\n",
    "params = {'C': [pow(10, x) for x in range(-6, 4)]}\n",
    "\n",
    "rfe_cv = GridSearchCV(param_grid=params, estimator=LogisticRegression(random_state=rs), cv=10)\n",
    "rfe_cv.fit(X_train_sel, y_train)\n",
    "\n",
    "# test the best model\n",
    "print(\"Train accuracy:\", rfe_cv.score(X_train_sel, y_train))\n",
    "print(\"Test accuracy:\", rfe_cv.score(X_test_sel, y_test))\n",
    "\n",
    "y_pred = rfe_cv.predict(X_test_sel)\n",
    "print(classification_report(y_test, y_pred))\n",
    "\n",
    "# print parameters of the best model\n",
    "print(rfe_cv.best_params_)"
   ]
  },
  {
   "cell_type": "code",
   "execution_count": 21,
   "metadata": {},
   "outputs": [
    {
     "name": "stdout",
     "output_type": "stream",
     "text": [
      "number_inpatient : 0.48774466071240485\n",
      "number_emergency : 0.28316695206062853\n",
      "diabetesMed : 0.15741293334889148\n"
     ]
    }
   ],
   "source": [
    "# grab feature importances from the model and feature name from the original X\n",
    "coef = model.coef_[0]\n",
    "feature_names = X.columns\n",
    "\n",
    "# sort them out in descending order\n",
    "indices = np.argsort(np.absolute(coef))\n",
    "indices = np.flip(indices, axis=0)\n",
    "\n",
    "# limit to 3 features\n",
    "indices = indices[:3]\n",
    "\n",
    "for i in indices:\n",
    "    print(feature_names[i], ':', coef[i])"
   ]
  },
  {
   "cell_type": "markdown",
   "metadata": {},
   "source": [
    "## ROC Comparision"
   ]
  },
  {
   "cell_type": "markdown",
   "metadata": {},
   "source": [
    "A total of 3 models has been built:\n",
    "- Default logistic regression (`model`)\n",
    "- Logistic regression + grid search (`cv`)\n",
    "- Logistic regression + feature selection using RFE + grid search (`rfe_cv`)"
   ]
  },
  {
   "cell_type": "code",
   "execution_count": 22,
   "metadata": {},
   "outputs": [
    {
     "name": "stdout",
     "output_type": "stream",
     "text": [
      "ROC index on test for `model`: 0.6709836073836907\n",
      "ROC index on test for `cv`: 0.6709775320633378\n",
      "ROC index on test for `rfe_cv`: 0.6709100526122742\n"
     ]
    }
   ],
   "source": [
    "from sklearn.metrics import roc_auc_score\n",
    "\n",
    "y_pred_proba_lr = model.predict_proba(X_test)\n",
    "y_pred_proba_lr_cv = cv.predict_proba(X_test)\n",
    "y_pred_proba_rfe_cv = rfe_cv.predict_proba(X_test_sel)\n",
    "\n",
    "\n",
    "roc_index_lr = roc_auc_score(y_test, y_pred_proba_lr[:, 1])\n",
    "roc_index_lr_cv = roc_auc_score(y_test, y_pred_proba_lr_cv[:, 1])\n",
    "roc_index_rfe_cv = roc_auc_score(y_test, y_pred_proba_rfe_cv[:, 1])\n",
    "\n",
    "print(\"ROC index on test for `model`:\", roc_index_lr)\n",
    "print(\"ROC index on test for `cv`:\", roc_index_lr_cv)\n",
    "print(\"ROC index on test for `rfe_cv`:\", roc_index_rfe_cv)"
   ]
  },
  {
   "cell_type": "code",
   "execution_count": 23,
   "metadata": {},
   "outputs": [],
   "source": [
    "from sklearn.metrics import roc_curve\n",
    "\n",
    "fpr_lr, tpr_lr, thresholds_lr = roc_curve(y_test, y_pred_proba_lr[:,1])\n",
    "fpr_lr_cv, tpr_lr_cv, thresholds_lr_cv = roc_curve(y_test, y_pred_proba_lr_cv[:,1])\n",
    "fpr_rfe_cv, tpr_rfe_cv, thresholds_rfe_cv = roc_curve(y_test, y_pred_proba_rfe_cv[:,1])"
   ]
  },
  {
   "cell_type": "code",
   "execution_count": 24,
   "metadata": {},
   "outputs": [
    {
     "data": {
      "image/png": "[encoded data removed]",
      "text/plain": [
       "<Figure size 432x288 with 1 Axes>"
      ]
     },
     "metadata": {
      "needs_background": "light"
     },
     "output_type": "display_data"
    }
   ],
   "source": [
    "import matplotlib.pyplot as plt\n",
    "\n",
    "plt.plot(fpr_lr, tpr_lr, label='ROC Curve for `model` {:.3f}'.format(roc_index_lr), color='red', lw=0.9)\n",
    "plt.plot(fpr_lr_cv, tpr_lr_cv, label='ROC Curve for `cv` {:.3f}'.format(roc_index_lr_cv), color='green', lw=0.9)\n",
    "plt.plot(fpr_rfe_cv, tpr_rfe_cv, label='ROC Curve for `rfe_cv` {:.3f}'.format(roc_index_rfe_cv), color='blue', lw=0.9)\n",
    "\n",
    "\n",
    "\n",
    "plt.plot([0, 1], [0, 1], color='navy', lw=0.5, linestyle='--')\n",
    "plt.xlim([0.0, 1.0])\n",
    "plt.ylim([0.0, 1.0])\n",
    "plt.xlabel('False Positive Rate')\n",
    "plt.ylabel('True Positive Rate')\n",
    "plt.title('Receiver operating characteristic example')\n",
    "plt.legend(loc=\"lower right\")\n",
    "plt.show()"
   ]
  }
 ],
 "metadata": {
  "kernelspec": {
   "display_name": "Python 3",
   "language": "python",
   "name": "python3"
  },
  "language_info": {
   "codemirror_mode": {
    "name": "ipython",
    "version": 3
   },
   "file_extension": ".py",
   "mimetype": "text/x-python",
   "name": "python",
   "nbconvert_exporter": "python",
   "pygments_lexer": "ipython3",
   "version": "3.7.3"
  }
 },
 "nbformat": 4,
 "nbformat_minor": 5
}
