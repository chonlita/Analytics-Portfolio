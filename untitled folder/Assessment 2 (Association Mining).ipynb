{
 "cells": [
  {
   "cell_type": "markdown",
   "metadata": {},
   "source": [
    "# Importing data "
   ]
  },
  {
   "cell_type": "code",
   "execution_count": 23,
   "metadata": {},
   "outputs": [],
   "source": [
    "import pandas as pd\n",
    "\n",
    "df = pd.read_csv('D1 (Assessment 2).csv')"
   ]
  },
  {
   "cell_type": "code",
   "execution_count": 24,
   "metadata": {},
   "outputs": [
    {
     "name": "stdout",
     "output_type": "stream",
     "text": [
      "<class 'pandas.core.frame.DataFrame'>\n",
      "RangeIndex: 19663 entries, 0 to 19662\n",
      "Data columns (total 8 columns):\n",
      "InvoiceNo      19663 non-null int64\n",
      "StockCode      19663 non-null object\n",
      "Description    19075 non-null object\n",
      "Quantity       19663 non-null int64\n",
      "InvoiceDate    19663 non-null object\n",
      "UnitPrice      19663 non-null float64\n",
      "CustomerID     15678 non-null float64\n",
      "Country        19663 non-null object\n",
      "dtypes: float64(2), int64(2), object(4)\n",
      "memory usage: 1.2+ MB\n",
      "None\n"
     ]
    }
   ],
   "source": [
    "print(df.info())"
   ]
  },
  {
   "cell_type": "markdown",
   "metadata": {},
   "source": [
    "# 1. Preprocess Data"
   ]
  },
  {
   "cell_type": "markdown",
   "metadata": {},
   "source": [
    "## Observation of Data"
   ]
  },
  {
   "cell_type": "code",
   "execution_count": 26,
   "metadata": {},
   "outputs": [
    {
     "name": "stdout",
     "output_type": "stream",
     "text": [
      "3985\n"
     ]
    }
   ],
   "source": [
    "print(df['CustomerID'].isna().sum())"
   ]
  },
  {
   "cell_type": "code",
   "execution_count": 25,
   "metadata": {},
   "outputs": [
    {
     "name": "stdout",
     "output_type": "stream",
     "text": [
      "count                                  19075\n",
      "unique                                    12\n",
      "top       WHITE HANGING HEART T-LIGHT HOLDER\n",
      "freq                                    2327\n",
      "Name: Description, dtype: object\n",
      "WHITE HANGING HEART T-LIGHT HOLDER    2327\n",
      "JUMBO BAG RED RETROSPOT               2115\n",
      "REGENCY CAKESTAND 3 TIER              2019\n",
      "PARTY BUNTING                         1707\n",
      "LUNCH BAG RED RETROSPOT               1594\n",
      "ASSORTED COLOUR BIRD ORNAMENT         1489\n",
      "SET OF 3 CAKE TINS PANTRY DESIGN      1399\n",
      "PACK OF 72 RETROSPOT CAKE CASES       1370\n",
      "LUNCH BAG  BLACK SKULL.               1328\n",
      "NATURAL SLATE HEART CHALKBOARD        1263\n",
      "JUMBO BAG PINK POLKADOT               1238\n",
      "HEART OF WICKER SMALL                 1226\n",
      "Name: Description, dtype: int64\n",
      "['WHITE HANGING HEART T-LIGHT HOLDER' 'ASSORTED COLOUR BIRD ORNAMENT'\n",
      " 'JUMBO BAG PINK POLKADOT' 'LUNCH BAG RED RETROSPOT'\n",
      " 'PACK OF 72 RETROSPOT CAKE CASES' 'NATURAL SLATE HEART CHALKBOARD '\n",
      " 'HEART OF WICKER SMALL' 'JUMBO BAG RED RETROSPOT'\n",
      " 'LUNCH BAG  BLACK SKULL.' nan 'REGENCY CAKESTAND 3 TIER' 'PARTY BUNTING'\n",
      " 'SET OF 3 CAKE TINS PANTRY DESIGN ']\n"
     ]
    }
   ],
   "source": [
    "print(df['Description'].describe())\n",
    "print(df['Description'].value_counts())\n",
    "print(df['Description'].unique())"
   ]
  },
  {
   "cell_type": "code",
   "execution_count": 27,
   "metadata": {},
   "outputs": [
    {
     "name": "stdout",
     "output_type": "stream",
     "text": [
      "count      19663\n",
      "unique       436\n",
      "top       85123A\n",
      "freq        2260\n",
      "Name: StockCode, dtype: object\n",
      "85123A    2260\n",
      "85099B    2115\n",
      "22423     2019\n",
      "47566     1707\n",
      "20725     1594\n",
      "84879     1489\n",
      "22720     1401\n",
      "21212     1370\n",
      "20727     1328\n",
      "22457     1263\n",
      "22386     1238\n",
      "22469     1227\n",
      "85123a      67\n",
      "35965        9\n",
      "23084        8\n",
      "22084        7\n",
      "23348        5\n",
      "71477        4\n",
      "22501        4\n",
      "79321        4\n",
      "21067        4\n",
      "22502        4\n",
      "22451        4\n",
      "22866        4\n",
      "21868        3\n",
      "35400        3\n",
      "22812        3\n",
      "23284        3\n",
      "82583        3\n",
      "21033        3\n",
      "          ... \n",
      "21973        1\n",
      "21054        1\n",
      "37444C       1\n",
      "21655        1\n",
      "22865        1\n",
      "22568        1\n",
      "85044        1\n",
      "22470        1\n",
      "C2           1\n",
      "21804        1\n",
      "22606        1\n",
      "21348        1\n",
      "22764        1\n",
      "22833        1\n",
      "85185B       1\n",
      "21918        1\n",
      "16162L       1\n",
      "84029G       1\n",
      "16033        1\n",
      "72802C       1\n",
      "16207A       1\n",
      "37489A       1\n",
      "84773        1\n",
      "84452        1\n",
      "21673        1\n",
      "84611B       1\n",
      "10002        1\n",
      "21620        1\n",
      "20748        1\n",
      "85106        1\n",
      "Name: StockCode, Length: 436, dtype: int64\n",
      "['85123A' '84879' '22386' '20725' '21212' '22457' '22469' '85099B' '20727'\n",
      " '22139' '22423' '21134' '22145' '37509' '85226A' '85044' '20950' '37461'\n",
      " '84670' '84952C' '47566' '85123a' '35951' '21421' '21651' '21777' '85215'\n",
      " '84270' '90167' '22959' '37474' '21595' '85170A' '20849' '84977' '21661'\n",
      " '72803B' '35958' '22114' '21690' '21488' '84688' '21357' '84497' '90042C'\n",
      " '17091A' '84773' '85018C' '20878' '21186' '62095B' '72814' '84802A'\n",
      " '90002D' '22218' '84247C' '84534B' '90042B' '20956' '85084' '35004P'\n",
      " '22720' '22444' '22591' '71477' '35400' '21491' '21009' '22734' '84689'\n",
      " '84675' '22501' '90112' '35957' '21667' '82605' '84562A' '22323' '21632'\n",
      " '21348' '84823' '21324' '84279B' '84452' '37413' '79063D' '20798' '37467'\n",
      " '85049B' '22830' '75013B' '22866' '35607A' '17165D' '84795C' '22242'\n",
      " '47591B' '79063C' '79062D' '22353' '22833' '35645' '84611B' '84306'\n",
      " '16207B' '21429' '85150' '22451' '21655' '85232B' '22837' '16033' '22865'\n",
      " '84029E' '15058A' '84459B' '21973' '37468' '90200C' '84535A' '84247K'\n",
      " '79302M' '85045' '21484' '84029G' '21555' '85185B' '85096' '79321'\n",
      " '23348' '22272' '77101A' '22838' '85206A' '85028L' '85028S' '21717'\n",
      " '85197' '21258' '22627' '21826' '84840' '21841' '22764' '84227' '84968B'\n",
      " '90084' '90005A' '85025C' '20973' '35809B' '21898' '37444C' '37444B'\n",
      " '21393' '21445' '71038' '20713' 'DOT' '20734' '21614' '47593A' '90104'\n",
      " '10002' '21095' '20702' '84906' '15030' '90010A' '90082B' '84596E'\n",
      " '72800D' '72801G' '84507B' '84741C' '21278' '21279' '16248B' '82494L'\n",
      " '20760' '22988' '35819B' '21664' '84247L' '44265' '20821' '84912A'\n",
      " '20748' '35914' '17014A' '84857C' '84858C' '62043B' '85146' '21736'\n",
      " '22168' '21527' '22847' '35915C' '84388' '85027L' '84990' '22867' '22470'\n",
      " '20941' '84921' '85200' '85145' '21911' '22632' '85008' '22777' '82483'\n",
      " '22459' '21897' '22719' '85099F' '16015' '22173' '21269' '84873A' '84539'\n",
      " '21355' '18098C' '84685' '47589' '20778' '20851' '22202' '84596J' '20964'\n",
      " '22726' '21143' '22078' '37444A' '22087' '82599' '84760S' '23444' '20886'\n",
      " '20966' '85185D' '84313C' '79164' '20975' '84746' '85214' '35653' '20664'\n",
      " '85016' '16049' '20801' '21904' '84691' '84917' '22502' '84796B' '20731'\n",
      " '21027' '47021G' '22968' '37479B' '22783' '84548' '21784' '35965' '85141'\n",
      " '21937' '22084' '85213' '84387A' '84709B' '47013C' '21145' '23574'\n",
      " '35966' '84857B' '84686' '20716' '82583' '84944' '23283' '21763' '79337'\n",
      " '21067' '21578' '16162L' '21635' '21069' '84925F' '21272' '21472' '22080'\n",
      " '22088' '85086A' '22034' '21686' '35819P' '84789' '84402B' '23084'\n",
      " '10080' '21868' '81952B' '21294' '84595E' '79161A' '40046A' '77079'\n",
      " '21275' '79336' '21609' '72709' '84847' '23134' '22722' '21147' '79000'\n",
      " '21359' '22194' '21658' '21033' '85049D' '85152' '20774' '85106' '85107'\n",
      " '20684' 'gift_0001_30' 'gift_0001_10' '21673' '22157' '16046' '23284'\n",
      " '48116' '21662' '23175' '37501' '22171' '21257' '85032D' '37342' '21682'\n",
      " '84989A' '47570B' '85232D' '84660C' '23306' '22035' '79163' '22050'\n",
      " '23135' '35815P' '35592T' '35597D' '35598A' '90209C' '35911A' '84663A'\n",
      " '21830' '21349' '22829' '84660A' '20984' '21586' '21587' '22062' '37370'\n",
      " '84849D' '90209B' '21394' '22688' '22570' '47504K' '35933' '23412'\n",
      " '23268' '21244' '84247E' '21098' '21918' '21311' '84596G' '21190'\n",
      " '46775D' '23702' '22149' '21801' '22729' '85211' '21738' '37327' '79030D'\n",
      " '35810B' '72818' '85135A' '23400' '23579' '22180' '21071' '21174'\n",
      " '85017B' 'C2' '22827' '22812' '21181' '21809' '22687' '22121' '21054'\n",
      " '16207A' '72802C' '85125' '72817' '15060B' '37489A' '85135B' '22606'\n",
      " '22125' '22568' '84971L' '22579' '23541' '22943' '21811' '22810' '21927'\n",
      " '22947' '22696' '21804' '21808' '21803' '22689' '23406' '21620' '85175']\n"
     ]
    }
   ],
   "source": [
    "print(df['StockCode'].describe())\n",
    "print(df['StockCode'].value_counts())\n",
    "print(df['StockCode'].unique())"
   ]
  },
  {
   "cell_type": "code",
   "execution_count": 28,
   "metadata": {},
   "outputs": [
    {
     "data": {
      "text/plain": [
       "Description                         StockCode\n",
       "ASSORTED COLOUR BIRD ORNAMENT       84879        1489\n",
       "HEART OF WICKER SMALL               22469        1226\n",
       "JUMBO BAG PINK POLKADOT             22386        1238\n",
       "JUMBO BAG RED RETROSPOT             85099B       2115\n",
       "LUNCH BAG  BLACK SKULL.             20727        1328\n",
       "LUNCH BAG RED RETROSPOT             20725        1594\n",
       "NATURAL SLATE HEART CHALKBOARD      22457        1263\n",
       "PACK OF 72 RETROSPOT CAKE CASES     21212        1370\n",
       "PARTY BUNTING                       47566        1707\n",
       "REGENCY CAKESTAND 3 TIER            22423        2019\n",
       "SET OF 3 CAKE TINS PANTRY DESIGN    22720        1399\n",
       "WHITE HANGING HEART T-LIGHT HOLDER  85123A       2260\n",
       "                                    85123a         67\n",
       "Name: StockCode, dtype: int64"
      ]
     },
     "execution_count": 28,
     "metadata": {},
     "output_type": "execute_result"
    }
   ],
   "source": [
    "df.groupby([\"Description\"])[\"StockCode\"].value_counts()"
   ]
  },
  {
   "cell_type": "code",
   "execution_count": 29,
   "metadata": {},
   "outputs": [
    {
     "data": {
      "text/plain": [
       "Description  StockCode   \n",
       "False        85123A          2260\n",
       "             85099B          2115\n",
       "             22423           2019\n",
       "             47566           1707\n",
       "             20725           1594\n",
       "             84879           1489\n",
       "             22720           1399\n",
       "             21212           1370\n",
       "             20727           1328\n",
       "             22457           1263\n",
       "             22386           1238\n",
       "             22469           1226\n",
       "             85123a            67\n",
       "True         35965              9\n",
       "             23084              8\n",
       "             22084              7\n",
       "             23348              5\n",
       "             21067              4\n",
       "             22451              4\n",
       "             22501              4\n",
       "             22502              4\n",
       "             22866              4\n",
       "             71477              4\n",
       "             79321              4\n",
       "             20713              3\n",
       "             21033              3\n",
       "             21445              3\n",
       "             21661              3\n",
       "             21784              3\n",
       "             21868              3\n",
       "                             ... \n",
       "             85125              1\n",
       "             85135B             1\n",
       "             85141              1\n",
       "             85145              1\n",
       "             85146              1\n",
       "             85150              1\n",
       "             85152              1\n",
       "             85170A             1\n",
       "             85175              1\n",
       "             85185B             1\n",
       "             85200              1\n",
       "             85206A             1\n",
       "             85211              1\n",
       "             85215              1\n",
       "             85226A             1\n",
       "             85232B             1\n",
       "             90002D             1\n",
       "             90010A             1\n",
       "             90042B             1\n",
       "             90042C             1\n",
       "             90082B             1\n",
       "             90084              1\n",
       "             90112              1\n",
       "             90167              1\n",
       "             90200C             1\n",
       "             90209B             1\n",
       "             C2                 1\n",
       "             DOT                1\n",
       "             gift_0001_10       1\n",
       "             gift_0001_30       1\n",
       "Name: StockCode, Length: 438, dtype: int64"
      ]
     },
     "execution_count": 29,
     "metadata": {},
     "output_type": "execute_result"
    }
   ],
   "source": [
    "df.groupby(df['Description'].isna())['StockCode'].value_counts()"
   ]
  },
  {
   "cell_type": "markdown",
   "metadata": {},
   "source": [
    "## Inconsistent Data"
   ]
  },
  {
   "cell_type": "code",
   "execution_count": 30,
   "metadata": {},
   "outputs": [
    {
     "data": {
      "text/plain": [
       "Description                         StockCode\n",
       "ASSORTED COLOUR BIRD ORNAMENT       84879        1489\n",
       "HEART OF WICKER SMALL               22469        1226\n",
       "JUMBO BAG PINK POLKADOT             22386        1238\n",
       "JUMBO BAG RED RETROSPOT             85099        2115\n",
       "LUNCH BAG  BLACK SKULL.             20727        1328\n",
       "LUNCH BAG RED RETROSPOT             20725        1594\n",
       "NATURAL SLATE HEART CHALKBOARD      22457        1263\n",
       "PACK OF 72 RETROSPOT CAKE CASES     21212        1370\n",
       "PARTY BUNTING                       47566        1707\n",
       "REGENCY CAKESTAND 3 TIER            22423        2019\n",
       "SET OF 3 CAKE TINS PANTRY DESIGN    22720        1399\n",
       "WHITE HANGING HEART T-LIGHT HOLDER  85123        2327\n",
       "Name: StockCode, dtype: int64"
      ]
     },
     "execution_count": 30,
     "metadata": {},
     "output_type": "execute_result"
    }
   ],
   "source": [
    "df['StockCode'] = df['StockCode'].str.replace('a','')\n",
    "df['StockCode'] = df['StockCode'].str.replace('A','')\n",
    "df['StockCode'] = df['StockCode'].str.replace('B','')\n",
    "df.groupby(['Description'])['StockCode'].value_counts()"
   ]
  },
  {
   "cell_type": "markdown",
   "metadata": {},
   "source": [
    "## Dropping nan"
   ]
  },
  {
   "cell_type": "code",
   "execution_count": 31,
   "metadata": {},
   "outputs": [],
   "source": [
    "df = df.dropna(subset=['Description'])"
   ]
  },
  {
   "cell_type": "code",
   "execution_count": 32,
   "metadata": {
    "scrolled": true
   },
   "outputs": [
    {
     "name": "stdout",
     "output_type": "stream",
     "text": [
      "<class 'pandas.core.frame.DataFrame'>\n",
      "Int64Index: 19075 entries, 0 to 19662\n",
      "Data columns (total 8 columns):\n",
      "InvoiceNo      19075 non-null int64\n",
      "StockCode      19075 non-null object\n",
      "Description    19075 non-null object\n",
      "Quantity       19075 non-null int64\n",
      "InvoiceDate    19075 non-null object\n",
      "UnitPrice      19075 non-null float64\n",
      "CustomerID     15678 non-null float64\n",
      "Country        19075 non-null object\n",
      "dtypes: float64(2), int64(2), object(4)\n",
      "memory usage: 1.3+ MB\n",
      "None\n"
     ]
    }
   ],
   "source": [
    "print(df.info())"
   ]
  },
  {
   "cell_type": "markdown",
   "metadata": {},
   "source": [
    "## For apriori, group by InvoiceNo then list by Description"
   ]
  },
  {
   "cell_type": "code",
   "execution_count": 33,
   "metadata": {},
   "outputs": [
    {
     "name": "stdout",
     "output_type": "stream",
     "text": [
      "InvoiceNo\n",
      "536365                 [WHITE HANGING HEART T-LIGHT HOLDER]\n",
      "536367                      [ASSORTED COLOUR BIRD ORNAMENT]\n",
      "536373                 [WHITE HANGING HEART T-LIGHT HOLDER]\n",
      "536375                 [WHITE HANGING HEART T-LIGHT HOLDER]\n",
      "536378    [JUMBO BAG PINK POLKADOT, LUNCH BAG RED RETROS...\n",
      "Name: Description, dtype: object\n"
     ]
    }
   ],
   "source": [
    "transactions = df.groupby(['InvoiceNo'])['Description'].apply(list)\n",
    "print(transactions.head(5))"
   ]
  },
  {
   "cell_type": "markdown",
   "metadata": {},
   "source": [
    "# 2. Association Mining (Apriori)"
   ]
  },
  {
   "cell_type": "code",
   "execution_count": 44,
   "metadata": {},
   "outputs": [
    {
     "name": "stdout",
     "output_type": "stream",
     "text": [
      "[RelationRecord(items=frozenset({'JUMBO BAG RED RETROSPOT'}), support=0.21864548494983277, ordered_statistics=[OrderedStatistic(items_base=frozenset(), items_add=frozenset({'JUMBO BAG RED RETROSPOT'}), confidence=0.21864548494983277, lift=1.0)]), RelationRecord(items=frozenset({'REGENCY CAKESTAND 3 TIER'}), support=0.2078804347826087, ordered_statistics=[OrderedStatistic(items_base=frozenset(), items_add=frozenset({'REGENCY CAKESTAND 3 TIER'}), confidence=0.2078804347826087, lift=1.0)]), RelationRecord(items=frozenset({'WHITE HANGING HEART T-LIGHT HOLDER'}), support=0.23620401337792643, ordered_statistics=[OrderedStatistic(items_base=frozenset(), items_add=frozenset({'WHITE HANGING HEART T-LIGHT HOLDER'}), confidence=0.23620401337792643, lift=1.0)]), RelationRecord(items=frozenset({'ASSORTED COLOUR BIRD ORNAMENT', 'WHITE HANGING HEART T-LIGHT HOLDER'}), support=0.033758361204013376, ordered_statistics=[OrderedStatistic(items_base=frozenset({'ASSORTED COLOUR BIRD ORNAMENT'}), items_add=frozenset({'WHITE HANGING HEART T-LIGHT HOLDER'}), confidence=0.2219931271477663, lift=0.9398363896238177)]), RelationRecord(items=frozenset({'JUMBO BAG RED RETROSPOT', 'HEART OF WICKER SMALL'}), support=0.026860367892976588, ordered_statistics=[OrderedStatistic(items_base=frozenset({'HEART OF WICKER SMALL'}), items_add=frozenset({'JUMBO BAG RED RETROSPOT'}), confidence=0.21398834304746042, lift=0.9787000316816928)])]\n"
     ]
    }
   ],
   "source": [
    "from apyori import apriori\n",
    "\n",
    "# type cast the transactions from pandas into normal list format and run apriori\n",
    "transaction_list = list(transactions)\n",
    "results = list(apriori(transaction_list, min_support=0.025, min_confidence=0.2))\n",
    "\n",
    "# print first 5 rules\n",
    "print(results[:5])"
   ]
  },
  {
   "cell_type": "code",
   "execution_count": 45,
   "metadata": {},
   "outputs": [
    {
     "name": "stdout",
     "output_type": "stream",
     "text": [
      "                                          Left_side  \\\n",
      "0                                                     \n",
      "1                                                     \n",
      "2                                                     \n",
      "3                     ASSORTED COLOUR BIRD ORNAMENT   \n",
      "4                             HEART OF WICKER SMALL   \n",
      "5                             HEART OF WICKER SMALL   \n",
      "6                   NATURAL SLATE HEART CHALKBOARD    \n",
      "7                             HEART OF WICKER SMALL   \n",
      "8                           JUMBO BAG PINK POLKADOT   \n",
      "9                           JUMBO BAG RED RETROSPOT   \n",
      "10                          JUMBO BAG PINK POLKADOT   \n",
      "11                          LUNCH BAG  BLACK SKULL.   \n",
      "12                          JUMBO BAG PINK POLKADOT   \n",
      "13                          LUNCH BAG RED RETROSPOT   \n",
      "14                          JUMBO BAG PINK POLKADOT   \n",
      "15                          LUNCH BAG  BLACK SKULL.   \n",
      "16                          JUMBO BAG RED RETROSPOT   \n",
      "17                          LUNCH BAG RED RETROSPOT   \n",
      "18                  NATURAL SLATE HEART CHALKBOARD    \n",
      "19                  PACK OF 72 RETROSPOT CAKE CASES   \n",
      "20                SET OF 3 CAKE TINS PANTRY DESIGN    \n",
      "21                          JUMBO BAG RED RETROSPOT   \n",
      "22                          LUNCH BAG  BLACK SKULL.   \n",
      "23                          LUNCH BAG RED RETROSPOT   \n",
      "24                          LUNCH BAG  BLACK SKULL.   \n",
      "25                  PACK OF 72 RETROSPOT CAKE CASES   \n",
      "26                          LUNCH BAG  BLACK SKULL.   \n",
      "27                          LUNCH BAG RED RETROSPOT   \n",
      "28                  PACK OF 72 RETROSPOT CAKE CASES   \n",
      "29                          LUNCH BAG RED RETROSPOT   \n",
      "30                          LUNCH BAG RED RETROSPOT   \n",
      "31                  NATURAL SLATE HEART CHALKBOARD    \n",
      "32                  NATURAL SLATE HEART CHALKBOARD    \n",
      "33                  PACK OF 72 RETROSPOT CAKE CASES   \n",
      "34                  PACK OF 72 RETROSPOT CAKE CASES   \n",
      "35                  PACK OF 72 RETROSPOT CAKE CASES   \n",
      "36                                    PARTY BUNTING   \n",
      "37                                    PARTY BUNTING   \n",
      "38                SET OF 3 CAKE TINS PANTRY DESIGN    \n",
      "39                SET OF 3 CAKE TINS PANTRY DESIGN    \n",
      "40                          JUMBO BAG PINK POLKADOT   \n",
      "41  JUMBO BAG RED RETROSPOT,JUMBO BAG PINK POLKADOT   \n",
      "42  LUNCH BAG RED RETROSPOT,JUMBO BAG PINK POLKADOT   \n",
      "43  LUNCH BAG RED RETROSPOT,JUMBO BAG RED RETROSPOT   \n",
      "\n",
      "                                         Right_side   Support  Confidence  \\\n",
      "0                           JUMBO BAG RED RETROSPOT  0.218645    0.218645   \n",
      "1                          REGENCY CAKESTAND 3 TIER  0.207880    0.207880   \n",
      "2                WHITE HANGING HEART T-LIGHT HOLDER  0.236204    0.236204   \n",
      "3                WHITE HANGING HEART T-LIGHT HOLDER  0.033758    0.221993   \n",
      "4                           JUMBO BAG RED RETROSPOT  0.026860    0.213988   \n",
      "5                   NATURAL SLATE HEART CHALKBOARD   0.031041    0.247294   \n",
      "6                             HEART OF WICKER SMALL  0.031041    0.237790   \n",
      "7                WHITE HANGING HEART T-LIGHT HOLDER  0.040865    0.325562   \n",
      "8                           JUMBO BAG RED RETROSPOT  0.086225    0.677340   \n",
      "9                           JUMBO BAG PINK POLKADOT  0.086225    0.394359   \n",
      "10                          LUNCH BAG  BLACK SKULL.  0.026756    0.210181   \n",
      "11                          JUMBO BAG PINK POLKADOT  0.026756    0.201100   \n",
      "12                          LUNCH BAG RED RETROSPOT  0.033758    0.265189   \n",
      "13                          JUMBO BAG PINK POLKADOT  0.033758    0.206522   \n",
      "14               WHITE HANGING HEART T-LIGHT HOLDER  0.026860    0.211002   \n",
      "15                          JUMBO BAG RED RETROSPOT  0.039298    0.295365   \n",
      "16                          LUNCH BAG RED RETROSPOT  0.060514    0.276769   \n",
      "17                          JUMBO BAG RED RETROSPOT  0.060514    0.370205   \n",
      "18                          JUMBO BAG RED RETROSPOT  0.033340    0.255404   \n",
      "19                          JUMBO BAG RED RETROSPOT  0.034490    0.250000   \n",
      "20                          JUMBO BAG RED RETROSPOT  0.031877    0.220217   \n",
      "21               WHITE HANGING HEART T-LIGHT HOLDER  0.046927    0.214627   \n",
      "22                          LUNCH BAG RED RETROSPOT  0.066994    0.503535   \n",
      "23                          LUNCH BAG  BLACK SKULL.  0.066994    0.409847   \n",
      "24                  PACK OF 72 RETROSPOT CAKE CASES  0.029160    0.219167   \n",
      "25                          LUNCH BAG  BLACK SKULL.  0.029160    0.211364   \n",
      "26               WHITE HANGING HEART T-LIGHT HOLDER  0.027487    0.206599   \n",
      "27                  PACK OF 72 RETROSPOT CAKE CASES  0.036162    0.221228   \n",
      "28                          LUNCH BAG RED RETROSPOT  0.036162    0.262121   \n",
      "29                                    PARTY BUNTING  0.033340    0.203964   \n",
      "30               WHITE HANGING HEART T-LIGHT HOLDER  0.034594    0.211637   \n",
      "31                                    PARTY BUNTING  0.026860    0.205765   \n",
      "32               WHITE HANGING HEART T-LIGHT HOLDER  0.043374    0.332266   \n",
      "33                                    PARTY BUNTING  0.031668    0.229545   \n",
      "34                         REGENCY CAKESTAND 3 TIER  0.037416    0.271212   \n",
      "35               WHITE HANGING HEART T-LIGHT HOLDER  0.028219    0.204545   \n",
      "36                         REGENCY CAKESTAND 3 TIER  0.041283    0.234282   \n",
      "37               WHITE HANGING HEART T-LIGHT HOLDER  0.040656    0.230724   \n",
      "38                         REGENCY CAKESTAND 3 TIER  0.032609    0.225271   \n",
      "39               WHITE HANGING HEART T-LIGHT HOLDER  0.033758    0.233213   \n",
      "40  LUNCH BAG RED RETROSPOT,JUMBO BAG RED RETROSPOT  0.026024    0.204433   \n",
      "41                          LUNCH BAG RED RETROSPOT  0.026024    0.301818   \n",
      "42                          JUMBO BAG RED RETROSPOT  0.026024    0.770898   \n",
      "43                          JUMBO BAG PINK POLKADOT  0.026024    0.430052   \n",
      "\n",
      "        Lift  \n",
      "0   1.000000  \n",
      "1   1.000000  \n",
      "2   1.000000  \n",
      "3   0.939836  \n",
      "4   0.978700  \n",
      "5   1.894402  \n",
      "6   1.894402  \n",
      "7   1.378309  \n",
      "8   3.097891  \n",
      "9   3.097891  \n",
      "10  1.579739  \n",
      "11  1.579739  \n",
      "12  1.622332  \n",
      "13  1.622332  \n",
      "14  0.893303  \n",
      "15  1.350887  \n",
      "16  1.693173  \n",
      "17  1.693173  \n",
      "18  1.168121  \n",
      "19  1.143403  \n",
      "20  1.007186  \n",
      "21  0.908652  \n",
      "22  3.080449  \n",
      "23  3.080449  \n",
      "24  1.588631  \n",
      "25  1.588631  \n",
      "26  0.874662  \n",
      "27  1.603565  \n",
      "28  1.603565  \n",
      "29  1.157491  \n",
      "30  0.895992  \n",
      "31  1.167708  \n",
      "32  1.406690  \n",
      "33  1.302664  \n",
      "34  1.304654  \n",
      "35  0.865969  \n",
      "36  1.127005  \n",
      "37  0.976798  \n",
      "38  1.083655  \n",
      "39  0.987337  \n",
      "40  3.378272  \n",
      "41  1.846417  \n",
      "42  3.525789  \n",
      "43  3.378272  \n"
     ]
    }
   ],
   "source": [
    "def convert_apriori_results_to_pandas_df(results):\n",
    "    rules = []\n",
    "    for rule_set in results:\n",
    "        for rule in rule_set.ordered_statistics:\n",
    "            # items_base = left side of rules, items_add = right side\n",
    "            # support, confidence and lift for respective rules\n",
    "            rules.append([','.join(rule.items_base), ','.join(rule.items_add),\n",
    "                rule_set.support, rule.confidence, rule.lift])\n",
    "    # typecast it to pandas df\n",
    "    return pd.DataFrame(rules, columns=['Left_side', 'Right_side', 'Support',\n",
    "    'Confidence', 'Lift'])\n",
    "\n",
    "result_df = convert_apriori_results_to_pandas_df(results)\n",
    "\n",
    "print(result_df)"
   ]
  },
  {
   "cell_type": "code",
   "execution_count": 46,
   "metadata": {},
   "outputs": [
    {
     "name": "stdout",
     "output_type": "stream",
     "text": [
      "                                          Left_side  \\\n",
      "42  LUNCH BAG RED RETROSPOT,JUMBO BAG PINK POLKADOT   \n",
      "43  LUNCH BAG RED RETROSPOT,JUMBO BAG RED RETROSPOT   \n",
      "40                          JUMBO BAG PINK POLKADOT   \n",
      "8                           JUMBO BAG PINK POLKADOT   \n",
      "9                           JUMBO BAG RED RETROSPOT   \n",
      "\n",
      "                                         Right_side   Support  Confidence  \\\n",
      "42                          JUMBO BAG RED RETROSPOT  0.026024    0.770898   \n",
      "43                          JUMBO BAG PINK POLKADOT  0.026024    0.430052   \n",
      "40  LUNCH BAG RED RETROSPOT,JUMBO BAG RED RETROSPOT  0.026024    0.204433   \n",
      "8                           JUMBO BAG RED RETROSPOT  0.086225    0.677340   \n",
      "9                           JUMBO BAG PINK POLKADOT  0.086225    0.394359   \n",
      "\n",
      "        Lift  \n",
      "42  3.525789  \n",
      "43  3.378272  \n",
      "40  3.378272  \n",
      "8   3.097891  \n",
      "9   3.097891  \n"
     ]
    }
   ],
   "source": [
    "# sort all acquired rules descending by lift\n",
    "result_df = result_df.sort_values(by=['Lift','Confidence','Support'], ascending=False)\n",
    "print(result_df.head(5))\n"
   ]
  },
  {
   "cell_type": "markdown",
   "metadata": {},
   "source": [
    "# 3. Top 5 common items "
   ]
  },
  {
   "cell_type": "code",
   "execution_count": 47,
   "metadata": {},
   "outputs": [
    {
     "name": "stdout",
     "output_type": "stream",
     "text": [
      "                  Left_side                                       Right_side  \\\n",
      "40  JUMBO BAG PINK POLKADOT  LUNCH BAG RED RETROSPOT,JUMBO BAG RED RETROSPOT   \n",
      "8   JUMBO BAG PINK POLKADOT                          JUMBO BAG RED RETROSPOT   \n",
      "12  JUMBO BAG PINK POLKADOT                          LUNCH BAG RED RETROSPOT   \n",
      "10  JUMBO BAG PINK POLKADOT                          LUNCH BAG  BLACK SKULL.   \n",
      "14  JUMBO BAG PINK POLKADOT               WHITE HANGING HEART T-LIGHT HOLDER   \n",
      "\n",
      "     Support  Confidence      Lift  \n",
      "40  0.026024    0.204433  3.378272  \n",
      "8   0.086225    0.677340  3.097891  \n",
      "12  0.033758    0.265189  1.622332  \n",
      "10  0.026756    0.210181  1.579739  \n",
      "14  0.026860    0.211002  0.893303  \n"
     ]
    }
   ],
   "source": [
    "result_df = result_df.sort_values(by=['Lift','Confidence','Support'], ascending=False)\n",
    "print(result_df[result_df['Left_side'] == 'JUMBO BAG PINK POLKADOT'].head(5))"
   ]
  },
  {
   "cell_type": "markdown",
   "metadata": {},
   "source": [
    "# 4. Association Mining (Sequential Analysis)"
   ]
  },
  {
   "cell_type": "markdown",
   "metadata": {},
   "source": [
    "## NA in CustomerID is dropped and dtype converted to datatime for sorting"
   ]
  },
  {
   "cell_type": "code",
   "execution_count": 89,
   "metadata": {},
   "outputs": [],
   "source": [
    "import datetime\n",
    "\n",
    "df['InvoiceDate'] = pd.to_datetime(df['InvoiceDate'])"
   ]
  },
  {
   "cell_type": "code",
   "execution_count": 90,
   "metadata": {},
   "outputs": [
    {
     "name": "stdout",
     "output_type": "stream",
     "text": [
      "<class 'pandas.core.frame.DataFrame'>\n",
      "Int64Index: 15678 entries, 15982 to 0\n",
      "Data columns (total 8 columns):\n",
      "InvoiceNo      15678 non-null int64\n",
      "StockCode      15678 non-null object\n",
      "Description    15678 non-null object\n",
      "Quantity       15678 non-null int64\n",
      "InvoiceDate    15678 non-null datetime64[ns]\n",
      "UnitPrice      15678 non-null float64\n",
      "CustomerID     15678 non-null int32\n",
      "Country        15678 non-null object\n",
      "dtypes: datetime64[ns](1), float64(1), int32(1), int64(2), object(3)\n",
      "memory usage: 1.0+ MB\n",
      "None\n"
     ]
    }
   ],
   "source": [
    "print(df.info())"
   ]
  },
  {
   "cell_type": "code",
   "execution_count": 91,
   "metadata": {},
   "outputs": [],
   "source": [
    "df = df.dropna(subset=['CustomerID'])\n",
    "df[\"CustomerID\"] = df[\"CustomerID\"].astype(int)"
   ]
  },
  {
   "cell_type": "code",
   "execution_count": 92,
   "metadata": {},
   "outputs": [],
   "source": [
    "df = df.sort_values(['InvoiceDate'], ascending=False)"
   ]
  },
  {
   "cell_type": "code",
   "execution_count": 93,
   "metadata": {},
   "outputs": [
    {
     "name": "stdout",
     "output_type": "stream",
     "text": [
      "InvoiceDate\n",
      "2010-01-12 08:26:00                  [85123]\n",
      "2010-01-12 08:34:00                  [84879]\n",
      "2010-01-12 09:02:00                  [85123]\n",
      "2010-01-12 09:32:00                  [85123]\n",
      "2010-01-12 09:37:00    [21212, 20725, 22386]\n",
      "Name: StockCode, dtype: object\n"
     ]
    }
   ],
   "source": [
    "transactions = df.groupby(['InvoiceDate'])['StockCode'].apply(list)\n",
    "print(transactions.head(5))"
   ]
  },
  {
   "cell_type": "code",
   "execution_count": 94,
   "metadata": {},
   "outputs": [
    {
     "name": "stdout",
     "output_type": "stream",
     "text": [
      "CustomerID\n",
      "12347    [22423, 22423, 22423, 22423]\n",
      "12349                  [22423, 22720]\n",
      "12352    [22720, 22720, 22423, 22423]\n",
      "12354                         [20725]\n",
      "12355                         [22423]\n",
      "Name: StockCode, dtype: object\n"
     ]
    }
   ],
   "source": [
    "transactions2 = df.groupby('CustomerID')['StockCode'].apply(list)\n",
    "print(transactions2.head())"
   ]
  }
 ],
 "metadata": {
  "kernelspec": {
   "display_name": "Python 3",
   "language": "python",
   "name": "python3"
  },
  "language_info": {
   "codemirror_mode": {
    "name": "ipython",
    "version": 3
   },
   "file_extension": ".py",
   "mimetype": "text/x-python",
   "name": "python",
   "nbconvert_exporter": "python",
   "pygments_lexer": "ipython3",
   "version": "3.7.3"
  }
 },
 "nbformat": 4,
 "nbformat_minor": 2
}
